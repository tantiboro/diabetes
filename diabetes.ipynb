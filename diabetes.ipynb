{
  "cells": [
    {
      "cell_type": "markdown",
      "metadata": {
        "id": "view-in-github",
        "colab_type": "text"
      },
      "source": [
        "<a href=\"https://colab.research.google.com/github/tantiboro/diabetes/blob/main/diabetes.ipynb\" target=\"_parent\"><img src=\"https://colab.research.google.com/assets/colab-badge.svg\" alt=\"Open In Colab\"/></a>"
      ]
    },
    {
      "cell_type": "code",
      "execution_count": 38,
      "metadata": {
        "id": "0c545a83-14ff-48b0-b3ab-609461addd5e"
      },
      "outputs": [],
      "source": [
        "import pandas as pd\n",
        "import seaborn as sns\n",
        "import seaborn.objects as so\n",
        "import numpy as np\n",
        "import matplotlib.pyplot as plt\n",
        "import warnings\n",
        "warnings.filterwarnings('ignore')\n",
        "from sklearn.pipeline import Pipeline\n",
        "from sklearn.preprocessing import StandardScaler, MinMaxScaler\n",
        "from sklearn.compose import ColumnTransformer\n",
        "from sklearn.preprocessing import OneHotEncoder\n",
        "from sklearn.ensemble import VotingClassifier\n",
        "from sklearn.linear_model import LogisticRegression\n",
        "from sklearn.svm import SVC\n",
        "from sklearn.model_selection import train_test_split, GridSearchCV"
      ],
      "id": "0c545a83-14ff-48b0-b3ab-609461addd5e"
    },
    {
      "cell_type": "code",
      "execution_count": 39,
      "metadata": {
        "id": "08C3Rgy-1gXW"
      },
      "outputs": [],
      "source": [
        "# from google.colab import files\n",
        "# uploaded = files.upload()"
      ],
      "id": "08C3Rgy-1gXW"
    },
    {
      "cell_type": "code",
      "execution_count": 40,
      "metadata": {
        "colab": {
          "base_uri": "https://localhost:8080/"
        },
        "id": "Rbyd3clk2MsK",
        "outputId": "39b74f20-c492-478c-a681-5cfe66c59e26"
      },
      "outputs": [
        {
          "output_type": "stream",
          "name": "stdout",
          "text": [
            "Drive already mounted at /content/drive; to attempt to forcibly remount, call drive.mount(\"/content/drive\", force_remount=True).\n"
          ]
        }
      ],
      "source": [
        "from google.colab import drive\n",
        "drive.mount('/content/drive')"
      ],
      "id": "Rbyd3clk2MsK"
    },
    {
      "cell_type": "code",
      "execution_count": 41,
      "metadata": {
        "id": "WzOUp7fN3R-J"
      },
      "outputs": [],
      "source": [
        "#loading the dataset\n",
        "df = pd.read_csv('/content/drive/MyDrive/New Folder/dataset/diabetes_data.csv.zip', encoding='utf-8')"
      ],
      "id": "WzOUp7fN3R-J"
    },
    {
      "cell_type": "code",
      "execution_count": 42,
      "metadata": {
        "id": "f05e392f-568f-461f-af9c-a4d781bc0ab2"
      },
      "outputs": [],
      "source": [
        "#df = pd.read_csv('diabetes_data.csv')"
      ],
      "id": "f05e392f-568f-461f-af9c-a4d781bc0ab2"
    },
    {
      "cell_type": "code",
      "execution_count": 43,
      "metadata": {
        "colab": {
          "base_uri": "https://localhost:8080/",
          "height": 206
        },
        "id": "22b9ddab-13b9-46aa-af9b-e72d6c8ffa19",
        "outputId": "3623c806-b977-4317-b922-921cb930bb7c"
      },
      "outputs": [
        {
          "output_type": "execute_result",
          "data": {
            "text/plain": [
              "    Age  Sex  HighChol  CholCheck   BMI  Smoker  HeartDiseaseorAttack  \\\n",
              "0   4.0  1.0       0.0        1.0  26.0     0.0                   0.0   \n",
              "1  12.0  1.0       1.0        1.0  26.0     1.0                   0.0   \n",
              "2  13.0  1.0       0.0        1.0  26.0     0.0                   0.0   \n",
              "3  11.0  1.0       1.0        1.0  28.0     1.0                   0.0   \n",
              "4   8.0  0.0       0.0        1.0  29.0     1.0                   0.0   \n",
              "\n",
              "   PhysActivity  Fruits  Veggies  HvyAlcoholConsump  GenHlth  MentHlth  \\\n",
              "0           1.0     0.0      1.0                0.0      3.0       5.0   \n",
              "1           0.0     1.0      0.0                0.0      3.0       0.0   \n",
              "2           1.0     1.0      1.0                0.0      1.0       0.0   \n",
              "3           1.0     1.0      1.0                0.0      3.0       0.0   \n",
              "4           1.0     1.0      1.0                0.0      2.0       0.0   \n",
              "\n",
              "   PhysHlth  DiffWalk  Stroke  HighBP  Diabetes  \n",
              "0      30.0       0.0     0.0     1.0       0.0  \n",
              "1       0.0       0.0     1.0     1.0       0.0  \n",
              "2      10.0       0.0     0.0     0.0       0.0  \n",
              "3       3.0       0.0     0.0     1.0       0.0  \n",
              "4       0.0       0.0     0.0     0.0       0.0  "
            ],
            "text/html": [
              "\n",
              "  <div id=\"df-1e863ff5-104a-4ee8-9a17-d6deab087e19\" class=\"colab-df-container\">\n",
              "    <div>\n",
              "<style scoped>\n",
              "    .dataframe tbody tr th:only-of-type {\n",
              "        vertical-align: middle;\n",
              "    }\n",
              "\n",
              "    .dataframe tbody tr th {\n",
              "        vertical-align: top;\n",
              "    }\n",
              "\n",
              "    .dataframe thead th {\n",
              "        text-align: right;\n",
              "    }\n",
              "</style>\n",
              "<table border=\"1\" class=\"dataframe\">\n",
              "  <thead>\n",
              "    <tr style=\"text-align: right;\">\n",
              "      <th></th>\n",
              "      <th>Age</th>\n",
              "      <th>Sex</th>\n",
              "      <th>HighChol</th>\n",
              "      <th>CholCheck</th>\n",
              "      <th>BMI</th>\n",
              "      <th>Smoker</th>\n",
              "      <th>HeartDiseaseorAttack</th>\n",
              "      <th>PhysActivity</th>\n",
              "      <th>Fruits</th>\n",
              "      <th>Veggies</th>\n",
              "      <th>HvyAlcoholConsump</th>\n",
              "      <th>GenHlth</th>\n",
              "      <th>MentHlth</th>\n",
              "      <th>PhysHlth</th>\n",
              "      <th>DiffWalk</th>\n",
              "      <th>Stroke</th>\n",
              "      <th>HighBP</th>\n",
              "      <th>Diabetes</th>\n",
              "    </tr>\n",
              "  </thead>\n",
              "  <tbody>\n",
              "    <tr>\n",
              "      <th>0</th>\n",
              "      <td>4.0</td>\n",
              "      <td>1.0</td>\n",
              "      <td>0.0</td>\n",
              "      <td>1.0</td>\n",
              "      <td>26.0</td>\n",
              "      <td>0.0</td>\n",
              "      <td>0.0</td>\n",
              "      <td>1.0</td>\n",
              "      <td>0.0</td>\n",
              "      <td>1.0</td>\n",
              "      <td>0.0</td>\n",
              "      <td>3.0</td>\n",
              "      <td>5.0</td>\n",
              "      <td>30.0</td>\n",
              "      <td>0.0</td>\n",
              "      <td>0.0</td>\n",
              "      <td>1.0</td>\n",
              "      <td>0.0</td>\n",
              "    </tr>\n",
              "    <tr>\n",
              "      <th>1</th>\n",
              "      <td>12.0</td>\n",
              "      <td>1.0</td>\n",
              "      <td>1.0</td>\n",
              "      <td>1.0</td>\n",
              "      <td>26.0</td>\n",
              "      <td>1.0</td>\n",
              "      <td>0.0</td>\n",
              "      <td>0.0</td>\n",
              "      <td>1.0</td>\n",
              "      <td>0.0</td>\n",
              "      <td>0.0</td>\n",
              "      <td>3.0</td>\n",
              "      <td>0.0</td>\n",
              "      <td>0.0</td>\n",
              "      <td>0.0</td>\n",
              "      <td>1.0</td>\n",
              "      <td>1.0</td>\n",
              "      <td>0.0</td>\n",
              "    </tr>\n",
              "    <tr>\n",
              "      <th>2</th>\n",
              "      <td>13.0</td>\n",
              "      <td>1.0</td>\n",
              "      <td>0.0</td>\n",
              "      <td>1.0</td>\n",
              "      <td>26.0</td>\n",
              "      <td>0.0</td>\n",
              "      <td>0.0</td>\n",
              "      <td>1.0</td>\n",
              "      <td>1.0</td>\n",
              "      <td>1.0</td>\n",
              "      <td>0.0</td>\n",
              "      <td>1.0</td>\n",
              "      <td>0.0</td>\n",
              "      <td>10.0</td>\n",
              "      <td>0.0</td>\n",
              "      <td>0.0</td>\n",
              "      <td>0.0</td>\n",
              "      <td>0.0</td>\n",
              "    </tr>\n",
              "    <tr>\n",
              "      <th>3</th>\n",
              "      <td>11.0</td>\n",
              "      <td>1.0</td>\n",
              "      <td>1.0</td>\n",
              "      <td>1.0</td>\n",
              "      <td>28.0</td>\n",
              "      <td>1.0</td>\n",
              "      <td>0.0</td>\n",
              "      <td>1.0</td>\n",
              "      <td>1.0</td>\n",
              "      <td>1.0</td>\n",
              "      <td>0.0</td>\n",
              "      <td>3.0</td>\n",
              "      <td>0.0</td>\n",
              "      <td>3.0</td>\n",
              "      <td>0.0</td>\n",
              "      <td>0.0</td>\n",
              "      <td>1.0</td>\n",
              "      <td>0.0</td>\n",
              "    </tr>\n",
              "    <tr>\n",
              "      <th>4</th>\n",
              "      <td>8.0</td>\n",
              "      <td>0.0</td>\n",
              "      <td>0.0</td>\n",
              "      <td>1.0</td>\n",
              "      <td>29.0</td>\n",
              "      <td>1.0</td>\n",
              "      <td>0.0</td>\n",
              "      <td>1.0</td>\n",
              "      <td>1.0</td>\n",
              "      <td>1.0</td>\n",
              "      <td>0.0</td>\n",
              "      <td>2.0</td>\n",
              "      <td>0.0</td>\n",
              "      <td>0.0</td>\n",
              "      <td>0.0</td>\n",
              "      <td>0.0</td>\n",
              "      <td>0.0</td>\n",
              "      <td>0.0</td>\n",
              "    </tr>\n",
              "  </tbody>\n",
              "</table>\n",
              "</div>\n",
              "    <div class=\"colab-df-buttons\">\n",
              "\n",
              "  <div class=\"colab-df-container\">\n",
              "    <button class=\"colab-df-convert\" onclick=\"convertToInteractive('df-1e863ff5-104a-4ee8-9a17-d6deab087e19')\"\n",
              "            title=\"Convert this dataframe to an interactive table.\"\n",
              "            style=\"display:none;\">\n",
              "\n",
              "  <svg xmlns=\"http://www.w3.org/2000/svg\" height=\"24px\" viewBox=\"0 -960 960 960\">\n",
              "    <path d=\"M120-120v-720h720v720H120Zm60-500h600v-160H180v160Zm220 220h160v-160H400v160Zm0 220h160v-160H400v160ZM180-400h160v-160H180v160Zm440 0h160v-160H620v160ZM180-180h160v-160H180v160Zm440 0h160v-160H620v160Z\"/>\n",
              "  </svg>\n",
              "    </button>\n",
              "\n",
              "  <style>\n",
              "    .colab-df-container {\n",
              "      display:flex;\n",
              "      gap: 12px;\n",
              "    }\n",
              "\n",
              "    .colab-df-convert {\n",
              "      background-color: #E8F0FE;\n",
              "      border: none;\n",
              "      border-radius: 50%;\n",
              "      cursor: pointer;\n",
              "      display: none;\n",
              "      fill: #1967D2;\n",
              "      height: 32px;\n",
              "      padding: 0 0 0 0;\n",
              "      width: 32px;\n",
              "    }\n",
              "\n",
              "    .colab-df-convert:hover {\n",
              "      background-color: #E2EBFA;\n",
              "      box-shadow: 0px 1px 2px rgba(60, 64, 67, 0.3), 0px 1px 3px 1px rgba(60, 64, 67, 0.15);\n",
              "      fill: #174EA6;\n",
              "    }\n",
              "\n",
              "    .colab-df-buttons div {\n",
              "      margin-bottom: 4px;\n",
              "    }\n",
              "\n",
              "    [theme=dark] .colab-df-convert {\n",
              "      background-color: #3B4455;\n",
              "      fill: #D2E3FC;\n",
              "    }\n",
              "\n",
              "    [theme=dark] .colab-df-convert:hover {\n",
              "      background-color: #434B5C;\n",
              "      box-shadow: 0px 1px 3px 1px rgba(0, 0, 0, 0.15);\n",
              "      filter: drop-shadow(0px 1px 2px rgba(0, 0, 0, 0.3));\n",
              "      fill: #FFFFFF;\n",
              "    }\n",
              "  </style>\n",
              "\n",
              "    <script>\n",
              "      const buttonEl =\n",
              "        document.querySelector('#df-1e863ff5-104a-4ee8-9a17-d6deab087e19 button.colab-df-convert');\n",
              "      buttonEl.style.display =\n",
              "        google.colab.kernel.accessAllowed ? 'block' : 'none';\n",
              "\n",
              "      async function convertToInteractive(key) {\n",
              "        const element = document.querySelector('#df-1e863ff5-104a-4ee8-9a17-d6deab087e19');\n",
              "        const dataTable =\n",
              "          await google.colab.kernel.invokeFunction('convertToInteractive',\n",
              "                                                    [key], {});\n",
              "        if (!dataTable) return;\n",
              "\n",
              "        const docLinkHtml = 'Like what you see? Visit the ' +\n",
              "          '<a target=\"_blank\" href=https://colab.research.google.com/notebooks/data_table.ipynb>data table notebook</a>'\n",
              "          + ' to learn more about interactive tables.';\n",
              "        element.innerHTML = '';\n",
              "        dataTable['output_type'] = 'display_data';\n",
              "        await google.colab.output.renderOutput(dataTable, element);\n",
              "        const docLink = document.createElement('div');\n",
              "        docLink.innerHTML = docLinkHtml;\n",
              "        element.appendChild(docLink);\n",
              "      }\n",
              "    </script>\n",
              "  </div>\n",
              "\n",
              "\n",
              "<div id=\"df-c1cb411f-6898-438f-affd-5757d1273e6a\">\n",
              "  <button class=\"colab-df-quickchart\" onclick=\"quickchart('df-c1cb411f-6898-438f-affd-5757d1273e6a')\"\n",
              "            title=\"Suggest charts.\"\n",
              "            style=\"display:none;\">\n",
              "\n",
              "<svg xmlns=\"http://www.w3.org/2000/svg\" height=\"24px\"viewBox=\"0 0 24 24\"\n",
              "     width=\"24px\">\n",
              "    <g>\n",
              "        <path d=\"M19 3H5c-1.1 0-2 .9-2 2v14c0 1.1.9 2 2 2h14c1.1 0 2-.9 2-2V5c0-1.1-.9-2-2-2zM9 17H7v-7h2v7zm4 0h-2V7h2v10zm4 0h-2v-4h2v4z\"/>\n",
              "    </g>\n",
              "</svg>\n",
              "  </button>\n",
              "\n",
              "<style>\n",
              "  .colab-df-quickchart {\n",
              "      --bg-color: #E8F0FE;\n",
              "      --fill-color: #1967D2;\n",
              "      --hover-bg-color: #E2EBFA;\n",
              "      --hover-fill-color: #174EA6;\n",
              "      --disabled-fill-color: #AAA;\n",
              "      --disabled-bg-color: #DDD;\n",
              "  }\n",
              "\n",
              "  [theme=dark] .colab-df-quickchart {\n",
              "      --bg-color: #3B4455;\n",
              "      --fill-color: #D2E3FC;\n",
              "      --hover-bg-color: #434B5C;\n",
              "      --hover-fill-color: #FFFFFF;\n",
              "      --disabled-bg-color: #3B4455;\n",
              "      --disabled-fill-color: #666;\n",
              "  }\n",
              "\n",
              "  .colab-df-quickchart {\n",
              "    background-color: var(--bg-color);\n",
              "    border: none;\n",
              "    border-radius: 50%;\n",
              "    cursor: pointer;\n",
              "    display: none;\n",
              "    fill: var(--fill-color);\n",
              "    height: 32px;\n",
              "    padding: 0;\n",
              "    width: 32px;\n",
              "  }\n",
              "\n",
              "  .colab-df-quickchart:hover {\n",
              "    background-color: var(--hover-bg-color);\n",
              "    box-shadow: 0 1px 2px rgba(60, 64, 67, 0.3), 0 1px 3px 1px rgba(60, 64, 67, 0.15);\n",
              "    fill: var(--button-hover-fill-color);\n",
              "  }\n",
              "\n",
              "  .colab-df-quickchart-complete:disabled,\n",
              "  .colab-df-quickchart-complete:disabled:hover {\n",
              "    background-color: var(--disabled-bg-color);\n",
              "    fill: var(--disabled-fill-color);\n",
              "    box-shadow: none;\n",
              "  }\n",
              "\n",
              "  .colab-df-spinner {\n",
              "    border: 2px solid var(--fill-color);\n",
              "    border-color: transparent;\n",
              "    border-bottom-color: var(--fill-color);\n",
              "    animation:\n",
              "      spin 1s steps(1) infinite;\n",
              "  }\n",
              "\n",
              "  @keyframes spin {\n",
              "    0% {\n",
              "      border-color: transparent;\n",
              "      border-bottom-color: var(--fill-color);\n",
              "      border-left-color: var(--fill-color);\n",
              "    }\n",
              "    20% {\n",
              "      border-color: transparent;\n",
              "      border-left-color: var(--fill-color);\n",
              "      border-top-color: var(--fill-color);\n",
              "    }\n",
              "    30% {\n",
              "      border-color: transparent;\n",
              "      border-left-color: var(--fill-color);\n",
              "      border-top-color: var(--fill-color);\n",
              "      border-right-color: var(--fill-color);\n",
              "    }\n",
              "    40% {\n",
              "      border-color: transparent;\n",
              "      border-right-color: var(--fill-color);\n",
              "      border-top-color: var(--fill-color);\n",
              "    }\n",
              "    60% {\n",
              "      border-color: transparent;\n",
              "      border-right-color: var(--fill-color);\n",
              "    }\n",
              "    80% {\n",
              "      border-color: transparent;\n",
              "      border-right-color: var(--fill-color);\n",
              "      border-bottom-color: var(--fill-color);\n",
              "    }\n",
              "    90% {\n",
              "      border-color: transparent;\n",
              "      border-bottom-color: var(--fill-color);\n",
              "    }\n",
              "  }\n",
              "</style>\n",
              "\n",
              "  <script>\n",
              "    async function quickchart(key) {\n",
              "      const quickchartButtonEl =\n",
              "        document.querySelector('#' + key + ' button');\n",
              "      quickchartButtonEl.disabled = true;  // To prevent multiple clicks.\n",
              "      quickchartButtonEl.classList.add('colab-df-spinner');\n",
              "      try {\n",
              "        const charts = await google.colab.kernel.invokeFunction(\n",
              "            'suggestCharts', [key], {});\n",
              "      } catch (error) {\n",
              "        console.error('Error during call to suggestCharts:', error);\n",
              "      }\n",
              "      quickchartButtonEl.classList.remove('colab-df-spinner');\n",
              "      quickchartButtonEl.classList.add('colab-df-quickchart-complete');\n",
              "    }\n",
              "    (() => {\n",
              "      let quickchartButtonEl =\n",
              "        document.querySelector('#df-c1cb411f-6898-438f-affd-5757d1273e6a button');\n",
              "      quickchartButtonEl.style.display =\n",
              "        google.colab.kernel.accessAllowed ? 'block' : 'none';\n",
              "    })();\n",
              "  </script>\n",
              "</div>\n",
              "\n",
              "    </div>\n",
              "  </div>\n"
            ]
          },
          "metadata": {},
          "execution_count": 43
        }
      ],
      "source": [
        "df.head()"
      ],
      "id": "22b9ddab-13b9-46aa-af9b-e72d6c8ffa19"
    },
    {
      "cell_type": "code",
      "execution_count": 44,
      "metadata": {
        "colab": {
          "base_uri": "https://localhost:8080/"
        },
        "id": "0b401791-8448-44c1-89ec-d7700157b98c",
        "outputId": "ca5e0295-9b62-4480-c6e1-5f2557de26dc"
      },
      "outputs": [
        {
          "output_type": "stream",
          "name": "stdout",
          "text": [
            "<class 'pandas.core.frame.DataFrame'>\n",
            "RangeIndex: 70692 entries, 0 to 70691\n",
            "Data columns (total 18 columns):\n",
            " #   Column                Non-Null Count  Dtype  \n",
            "---  ------                --------------  -----  \n",
            " 0   Age                   70692 non-null  float64\n",
            " 1   Sex                   70692 non-null  float64\n",
            " 2   HighChol              70692 non-null  float64\n",
            " 3   CholCheck             70692 non-null  float64\n",
            " 4   BMI                   70692 non-null  float64\n",
            " 5   Smoker                70692 non-null  float64\n",
            " 6   HeartDiseaseorAttack  70692 non-null  float64\n",
            " 7   PhysActivity          70692 non-null  float64\n",
            " 8   Fruits                70692 non-null  float64\n",
            " 9   Veggies               70692 non-null  float64\n",
            " 10  HvyAlcoholConsump     70692 non-null  float64\n",
            " 11  GenHlth               70692 non-null  float64\n",
            " 12  MentHlth              70692 non-null  float64\n",
            " 13  PhysHlth              70692 non-null  float64\n",
            " 14  DiffWalk              70692 non-null  float64\n",
            " 15  Stroke                70692 non-null  float64\n",
            " 16  HighBP                70692 non-null  float64\n",
            " 17  Diabetes              70692 non-null  float64\n",
            "dtypes: float64(18)\n",
            "memory usage: 9.7 MB\n"
          ]
        }
      ],
      "source": [
        "df.info()"
      ],
      "id": "0b401791-8448-44c1-89ec-d7700157b98c"
    },
    {
      "cell_type": "code",
      "execution_count": 45,
      "metadata": {
        "colab": {
          "base_uri": "https://localhost:8080/",
          "height": 1000
        },
        "id": "28889f81-7d4c-4d41-8f72-56cc995d7105",
        "outputId": "174915c1-fe60-4dd4-cff0-1e3e1226b066"
      },
      "outputs": [
        {
          "output_type": "display_data",
          "data": {
            "text/plain": [
              "<Figure size 2000x1500 with 20 Axes>"
            ],
            "image/png": "[encoded data removed]"
          },
          "metadata": {}
        }
      ],
      "source": [
        "df.hist(bins=50, figsize=(20,15))\n",
        "plt.show()"
      ],
      "id": "28889f81-7d4c-4d41-8f72-56cc995d7105"
    },
    {
      "cell_type": "code",
      "execution_count": 46,
      "metadata": {
        "id": "06bfaf6c-388b-404d-ade4-412b450c4dff"
      },
      "outputs": [],
      "source": [
        "df.columns = df.columns.str.lower()"
      ],
      "id": "06bfaf6c-388b-404d-ade4-412b450c4dff"
    },
    {
      "cell_type": "code",
      "execution_count": 47,
      "metadata": {
        "colab": {
          "base_uri": "https://localhost:8080/"
        },
        "id": "94b9c9ac-4e07-44f6-bbbd-c09d3918951c",
        "outputId": "50c01c3f-16a4-4d9e-8a3a-a0a9d855f086"
      },
      "outputs": [
        {
          "output_type": "execute_result",
          "data": {
            "text/plain": [
              "(70692, 18)"
            ]
          },
          "metadata": {},
          "execution_count": 47
        }
      ],
      "source": [
        "df.shape"
      ],
      "id": "94b9c9ac-4e07-44f6-bbbd-c09d3918951c"
    },
    {
      "cell_type": "code",
      "source": [
        "binary_features = ['sex', 'highchol', 'cholcheck', 'smoker', 'heartdiseaseorattack', 'physactivity', 'fruits', 'veggies', 'hvyalcoholconsump', 'diffwalk', 'stroke', 'highbp' ]\n",
        "numeric_features = ['age', 'bmi', 'genhlth', 'menthlth', 'physhlth']"
      ],
      "metadata": {
        "id": "eLRl8wBYvKpu"
      },
      "id": "eLRl8wBYvKpu",
      "execution_count": 48,
      "outputs": []
    },
    {
      "cell_type": "code",
      "execution_count": 49,
      "metadata": {
        "colab": {
          "base_uri": "https://localhost:8080/",
          "height": 406
        },
        "id": "ec2d119e-812a-4ee7-8122-ab8228fc93d5",
        "outputId": "cf447310-c181-4371-8450-f296c9506685"
      },
      "outputs": [
        {
          "output_type": "display_data",
          "data": {
            "text/plain": [
              "<Figure size 640x480 with 1 Axes>"
            ],
            "image/png": "[encoded data removed]"
          },
          "metadata": {}
        }
      ],
      "source": [
        "#define Seaborn color palette to use\n",
        "colors = sns.color_palette('pastel')\n",
        "\n",
        "#create pie chart\n",
        "plt.pie(df.diabetes.value_counts(), autopct='%.2f%%')\n",
        "plt.show()"
      ],
      "id": "ec2d119e-812a-4ee7-8122-ab8228fc93d5"
    },
    {
      "cell_type": "code",
      "execution_count": 50,
      "metadata": {
        "colab": {
          "base_uri": "https://localhost:8080/",
          "height": 430
        },
        "id": "91420c65-0343-4d8a-b33e-176bb9c0ef06",
        "outputId": "fb680f77-7d47-4b88-a678-57d6d5f7e477"
      },
      "outputs": [
        {
          "output_type": "display_data",
          "data": {
            "text/plain": [
              "<Figure size 640x480 with 1 Axes>"
            ],
            "image/png": "[encoded data removed]"
          },
          "metadata": {}
        }
      ],
      "source": [
        "corr_matrix = df.corr()\n",
        "corr_matrix['diabetes'].sort_values(ascending=False).plot(kind='barh')\n",
        "plt.show()\n"
      ],
      "id": "91420c65-0343-4d8a-b33e-176bb9c0ef06"
    },
    {
      "cell_type": "code",
      "execution_count": 51,
      "metadata": {
        "id": "ed35ba84-2f8b-475c-9e7e-41f72cb56d40"
      },
      "outputs": [],
      "source": [
        "from sklearn.preprocessing import FunctionTransformer\n",
        "from sklearn.pipeline import Pipeline, FeatureUnion\n",
        "from sklearn.compose import ColumnTransformer\n",
        "from sklearn.preprocessing import StandardScaler"
      ],
      "id": "ed35ba84-2f8b-475c-9e7e-41f72cb56d40"
    },
    {
      "cell_type": "code",
      "source": [
        "from sklearn.impute import SimpleImputer\n",
        "from sklearn.preprocessing import PowerTransformer\n",
        "boxcox_transformer = PowerTransformer(method='box-cox', standardize=False)\n",
        "#Dealing with binary columns\n",
        "binary_pipel = Pipeline(\n",
        "    [('select_categorial_features', FunctionTransformer(lambda df: df[binary_features])),\n",
        "      (\"fillna\", SimpleImputer(strategy='constant', fill_value=False))\n",
        "      ]\n",
        "    )\n",
        "#Dealing with numeric columns\n",
        "numeric_pipel = Pipeline(\n",
        "    [\n",
        "        ('select_numeril_features', FunctionTransformer(lambda x: x[numeric_features], validate=False)),\n",
        "        #('box-cox', PowerTransformer(method='box-cox', standardize=True)),\n",
        "        #(\"scaler\", StandardScaler())\n",
        "        ]\n",
        "    )\n"
      ],
      "metadata": {
        "id": "YilSQLrGCyvC"
      },
      "id": "YilSQLrGCyvC",
      "execution_count": 119,
      "outputs": []
    },
    {
      "cell_type": "code",
      "source": [
        "features = FeatureUnion([(\"binary_pipel\", binary_pipel), (\"numeric_pipel\", numeric_pipel)])\n"
      ],
      "metadata": {
        "id": "QUos1XJ4Cyy8"
      },
      "id": "QUos1XJ4Cyy8",
      "execution_count": 120,
      "outputs": []
    },
    {
      "cell_type": "code",
      "source": [],
      "metadata": {
        "id": "HhXePx4FCy2R"
      },
      "id": "HhXePx4FCy2R",
      "execution_count": 53,
      "outputs": []
    },
    {
      "cell_type": "code",
      "execution_count": 54,
      "metadata": {
        "id": "f1552be3-f6a7-485c-8d06-5d2c8ecb46be"
      },
      "outputs": [],
      "source": [
        "#create feature matrix\n",
        "X = df.drop('diabetes', axis=1)"
      ],
      "id": "f1552be3-f6a7-485c-8d06-5d2c8ecb46be"
    },
    {
      "cell_type": "code",
      "execution_count": 55,
      "metadata": {
        "id": "9a64832a-1f57-4461-a21f-8e4b4bd3ef6a"
      },
      "outputs": [],
      "source": [
        "#create target vector\n",
        "y = df.diabetes"
      ],
      "id": "9a64832a-1f57-4461-a21f-8e4b4bd3ef6a"
    },
    {
      "cell_type": "raw",
      "metadata": {
        "id": "99de2571-9e03-4f19-9a58-72eba24973cd"
      },
      "source": [
        "Selecting The best models using Exhaustive search"
      ],
      "id": "99de2571-9e03-4f19-9a58-72eba24973cd"
    },
    {
      "cell_type": "code",
      "execution_count": 56,
      "metadata": {
        "colab": {
          "base_uri": "https://localhost:8080/"
        },
        "id": "ab40888b-ff53-4409-8b58-82ff80792c66",
        "outputId": "75accca2-b390-4451-823e-6cdfe095fb64"
      },
      "outputs": [
        {
          "output_type": "stream",
          "name": "stdout",
          "text": [
            "LogisticRegression(max_iter=500, solver='liblinear')\n"
          ]
        }
      ],
      "source": [
        "# Create logistic regression model\n",
        "from sklearn import linear_model\n",
        "logistic = linear_model.LogisticRegression(max_iter=500, solver='liblinear')\n",
        "#create range of candidate penalty hyperparameter values\n",
        "penalty = ['l1', 'l2']\n",
        "#create range of candidateregularization hyperparameter values\n",
        "C = np.logspace(0, 4, 10)\n",
        "#create dictionary of hyperparameter candidates\n",
        "hyperparameters = dict(C=C, penalty=penalty)\n",
        "#craete grid search\n",
        "gridsearch = GridSearchCV(logistic, hyperparameters, cv=5, verbose=0)\n",
        "# fit grid search\n",
        "best_model = gridsearch.fit(X, y)\n",
        "#show the best model\n",
        "print(best_model.best_estimator_)"
      ],
      "id": "ab40888b-ff53-4409-8b58-82ff80792c66"
    },
    {
      "cell_type": "markdown",
      "metadata": {
        "id": "c57c0340-427c-40e6-a451-0dc01d34ff58"
      },
      "source": [
        "Selecting the best models using randomized search"
      ],
      "id": "c57c0340-427c-40e6-a451-0dc01d34ff58"
    },
    {
      "cell_type": "code",
      "execution_count": 57,
      "metadata": {
        "id": "2a22aa10-85a9-4d53-a0c6-998b5c072970"
      },
      "outputs": [],
      "source": [
        "# #Create logistic regression classifier\n",
        "# from sklearn.model_selection import RandomizedSearchCV\n",
        "# from scipy.stats import uniform\n",
        "# logistic = LogisticRegression(max_iter=500, solver='libelinear')\n",
        "# #create range of candidate regularization penalty hyperparameter values\n",
        "# penalty = ['l1', 'l2']\n",
        "# #create distribution of candidates regularization hyperparameter values\n",
        "# C = uniform(loc=0, scale=4)\n",
        "# #create dictionary of hyperparameter candidates\n",
        "# hyperparameters = dict(C=C, penalty=penalty)\n",
        "# #craete grid search\n",
        "# randomizedsearch = RandomizedSearchCV(logistic, hyperparameters, random_state=1, n_iter=100, cv=5, verbose=0, n_jobs=-1)\n",
        "# # fit grid search\n",
        "# best_model = randomizedsearch.fit(features, target)\n",
        "# #show the best model\n",
        "# print(best_model.best_estimator_)"
      ],
      "id": "2a22aa10-85a9-4d53-a0c6-998b5c072970"
    },
    {
      "cell_type": "code",
      "execution_count": 58,
      "metadata": {
        "id": "db833a58-9688-435e-bef9-ebf5c3b9d623"
      },
      "outputs": [],
      "source": [
        "from sklearn.linear_model import LogisticRegression\n",
        "from sklearn.ensemble import RandomForestClassifier\n",
        "from sklearn.model_selection import GridSearchCV\n",
        "from sklearn.pipeline import Pipeline"
      ],
      "id": "db833a58-9688-435e-bef9-ebf5c3b9d623"
    },
    {
      "cell_type": "code",
      "execution_count": 59,
      "metadata": {
        "colab": {
          "base_uri": "https://localhost:8080/"
        },
        "id": "bfde9dd4-b66b-4498-97cc-7535d23bb6c6",
        "outputId": "b0b38154-4906-4142-cc39-828d8559cb9a"
      },
      "outputs": [
        {
          "output_type": "stream",
          "name": "stdout",
          "text": [
            "Pipeline(steps=[('classifier',\n",
            "                 LogisticRegression(max_iter=500, solver='liblinear'))])\n"
          ]
        }
      ],
      "source": [
        "#Create the pipeline\n",
        "pipe = Pipeline([(\"classifier\", RandomForestClassifier())])\n",
        "#Create dictionary with candidate learning algorithms and their hyperparameters\n",
        "search_space = [{\"classifier\":[LogisticRegression(max_iter=500, solver='liblinear')],\n",
        "                \"classifier__penalty\": ['l1', 'l2'],\n",
        "                \"classifier__C\": np.logspace(0,4, 10)},\n",
        "{\"classifier\": [RandomForestClassifier()],\n",
        "\"classifier__n_estimators\": [10, 100, 1000],\n",
        "\"classifier__max_features\": [1, 2, 3]}]\n",
        "#Create grid search\n",
        "gridsearch = GridSearchCV(pipe, search_space, cv=5, verbose=0)\n",
        "# Fit grid search\n",
        "best_model = gridsearch.fit(X, y)\n",
        "# print best model\n",
        "print(best_model.best_estimator_)"
      ],
      "id": "bfde9dd4-b66b-4498-97cc-7535d23bb6c6"
    },
    {
      "cell_type": "raw",
      "metadata": {
        "id": "25496cea-f232-43d6-aae0-9c6d737e7da3"
      },
      "source": [
        "Selecting the best models when preprocessing"
      ],
      "id": "25496cea-f232-43d6-aae0-9c6d737e7da3"
    },
    {
      "cell_type": "code",
      "execution_count": 60,
      "metadata": {
        "id": "dcb803ca-fed4-47d2-89dc-6086eafa2f42"
      },
      "outputs": [],
      "source": [
        "from sklearn.pipeline import Pipeline, FeatureUnion\n",
        "from sklearn.decomposition import PCA\n",
        "from sklearn.preprocessing import StandardScaler"
      ],
      "id": "dcb803ca-fed4-47d2-89dc-6086eafa2f42"
    },
    {
      "cell_type": "code",
      "execution_count": 61,
      "metadata": {
        "colab": {
          "base_uri": "https://localhost:8080/"
        },
        "id": "066ca731-fff6-44cf-99d0-84b3cf51af65",
        "outputId": "03ed9ca9-f006-4204-fbee-017275053884"
      },
      "outputs": [
        {
          "output_type": "stream",
          "name": "stdout",
          "text": [
            "Pipeline(steps=[('preprocess',\n",
            "                 FeatureUnion(transformer_list=[('std', StandardScaler()),\n",
            "                                                ('pca', PCA(n_components=3))])),\n",
            "                ('classifier',\n",
            "                 LogisticRegression(C=2.7825594022071245, max_iter=1000,\n",
            "                                    penalty='l1', solver='liblinear'))])\n"
          ]
        }
      ],
      "source": [
        "#Create a preprocessing object that includes StandardScaler features and PCA\n",
        "preprocess = FeatureUnion([(\"std\", StandardScaler()),(\"pca\", PCA())])\n",
        "#create a pipeline\n",
        "pipe = Pipeline([(\"preprocess\", preprocess),\n",
        "                (\"classifier\", LogisticRegression(max_iter=1000, solver='liblinear'))])\n",
        "#create space of candidate values\n",
        "search_space = [{\"preprocess__pca__n_components\": [1, 2, 3],\n",
        "                \"classifier__penalty\": ['l1', 'l2'],\n",
        "                \"classifier__C\": np.logspace(0, 4, 10)}]\n",
        "#create grid search\n",
        "clf = GridSearchCV(pipe, search_space, cv=5, verbose=0, n_jobs=-1)\n",
        "#fit grid search\n",
        "best_model = clf.fit(X, y)\n",
        "\n",
        "#Print best model\n",
        "print(best_model.best_estimator_)"
      ],
      "id": "066ca731-fff6-44cf-99d0-84b3cf51af65"
    },
    {
      "cell_type": "code",
      "execution_count": 62,
      "metadata": {
        "colab": {
          "base_uri": "https://localhost:8080/",
          "height": 75
        },
        "id": "0dbd4b9e-32bf-49bc-b733-d4823cc1b623",
        "outputId": "c69b4152-54b0-4dcb-b62c-b1c0d207dd8f"
      },
      "outputs": [
        {
          "output_type": "execute_result",
          "data": {
            "text/plain": [
              "DummyClassifier(random_state=1, strategy='uniform')"
            ],
            "text/html": [
              "<style>#sk-container-id-1 {color: black;background-color: white;}#sk-container-id-1 pre{padding: 0;}#sk-container-id-1 div.sk-toggleable {background-color: white;}#sk-container-id-1 label.sk-toggleable__label {cursor: pointer;display: block;width: 100%;margin-bottom: 0;padding: 0.3em;box-sizing: border-box;text-align: center;}#sk-container-id-1 label.sk-toggleable__label-arrow:before {content: \"▸\";float: left;margin-right: 0.25em;color: #696969;}#sk-container-id-1 label.sk-toggleable__label-arrow:hover:before {color: black;}#sk-container-id-1 div.sk-estimator:hover label.sk-toggleable__label-arrow:before {color: black;}#sk-container-id-1 div.sk-toggleable__content {max-height: 0;max-width: 0;overflow: hidden;text-align: left;background-color: #f0f8ff;}#sk-container-id-1 div.sk-toggleable__content pre {margin: 0.2em;color: black;border-radius: 0.25em;background-color: #f0f8ff;}#sk-container-id-1 input.sk-toggleable__control:checked~div.sk-toggleable__content {max-height: 200px;max-width: 100%;overflow: auto;}#sk-container-id-1 input.sk-toggleable__control:checked~label.sk-toggleable__label-arrow:before {content: \"▾\";}#sk-container-id-1 div.sk-estimator input.sk-toggleable__control:checked~label.sk-toggleable__label {background-color: #d4ebff;}#sk-container-id-1 div.sk-label input.sk-toggleable__control:checked~label.sk-toggleable__label {background-color: #d4ebff;}#sk-container-id-1 input.sk-hidden--visually {border: 0;clip: rect(1px 1px 1px 1px);clip: rect(1px, 1px, 1px, 1px);height: 1px;margin: -1px;overflow: hidden;padding: 0;position: absolute;width: 1px;}#sk-container-id-1 div.sk-estimator {font-family: monospace;background-color: #f0f8ff;border: 1px dotted black;border-radius: 0.25em;box-sizing: border-box;margin-bottom: 0.5em;}#sk-container-id-1 div.sk-estimator:hover {background-color: #d4ebff;}#sk-container-id-1 div.sk-parallel-item::after {content: \"\";width: 100%;border-bottom: 1px solid gray;flex-grow: 1;}#sk-container-id-1 div.sk-label:hover label.sk-toggleable__label {background-color: #d4ebff;}#sk-container-id-1 div.sk-serial::before {content: \"\";position: absolute;border-left: 1px solid gray;box-sizing: border-box;top: 0;bottom: 0;left: 50%;z-index: 0;}#sk-container-id-1 div.sk-serial {display: flex;flex-direction: column;align-items: center;background-color: white;padding-right: 0.2em;padding-left: 0.2em;position: relative;}#sk-container-id-1 div.sk-item {position: relative;z-index: 1;}#sk-container-id-1 div.sk-parallel {display: flex;align-items: stretch;justify-content: center;background-color: white;position: relative;}#sk-container-id-1 div.sk-item::before, #sk-container-id-1 div.sk-parallel-item::before {content: \"\";position: absolute;border-left: 1px solid gray;box-sizing: border-box;top: 0;bottom: 0;left: 50%;z-index: -1;}#sk-container-id-1 div.sk-parallel-item {display: flex;flex-direction: column;z-index: 1;position: relative;background-color: white;}#sk-container-id-1 div.sk-parallel-item:first-child::after {align-self: flex-end;width: 50%;}#sk-container-id-1 div.sk-parallel-item:last-child::after {align-self: flex-start;width: 50%;}#sk-container-id-1 div.sk-parallel-item:only-child::after {width: 0;}#sk-container-id-1 div.sk-dashed-wrapped {border: 1px dashed gray;margin: 0 0.4em 0.5em 0.4em;box-sizing: border-box;padding-bottom: 0.4em;background-color: white;}#sk-container-id-1 div.sk-label label {font-family: monospace;font-weight: bold;display: inline-block;line-height: 1.2em;}#sk-container-id-1 div.sk-label-container {text-align: center;}#sk-container-id-1 div.sk-container {/* jupyter's `normalize.less` sets `[hidden] { display: none; }` but bootstrap.min.css set `[hidden] { display: none !important; }` so we also need the `!important` here to be able to override the default hidden behavior on the sphinx rendered scikit-learn.org. See: https://github.com/scikit-learn/scikit-learn/issues/21755 */display: inline-block !important;position: relative;}#sk-container-id-1 div.sk-text-repr-fallback {display: none;}</style><div id=\"sk-container-id-1\" class=\"sk-top-container\"><div class=\"sk-text-repr-fallback\"><pre>DummyClassifier(random_state=1, strategy=&#x27;uniform&#x27;)</pre><b>In a Jupyter environment, please rerun this cell to show the HTML representation or trust the notebook. <br />On GitHub, the HTML representation is unable to render, please try loading this page with nbviewer.org.</b></div><div class=\"sk-container\" hidden><div class=\"sk-item\"><div class=\"sk-estimator sk-toggleable\"><input class=\"sk-toggleable__control sk-hidden--visually\" id=\"sk-estimator-id-1\" type=\"checkbox\" checked><label for=\"sk-estimator-id-1\" class=\"sk-toggleable__label sk-toggleable__label-arrow\">DummyClassifier</label><div class=\"sk-toggleable__content\"><pre>DummyClassifier(random_state=1, strategy=&#x27;uniform&#x27;)</pre></div></div></div></div></div>"
            ]
          },
          "metadata": {},
          "execution_count": 62
        }
      ],
      "source": [
        "#Creating a baseline for classification model\n",
        "from sklearn.dummy import DummyClassifier\n",
        "#split the data into training and test set\n",
        "X_train, X_test, y_train, y_test = train_test_split(X, y, random_state=11)\n",
        "# Create a dummy classifier\n",
        "dummy = DummyClassifier(strategy='uniform', random_state=1)\n",
        "#train model\n",
        "dummy.fit(X_train, y_train)"
      ],
      "id": "0dbd4b9e-32bf-49bc-b733-d4823cc1b623"
    },
    {
      "cell_type": "code",
      "execution_count": 63,
      "metadata": {
        "colab": {
          "base_uri": "https://localhost:8080/"
        },
        "id": "a825bd4d-a9b2-4ff0-8165-a3d331186641",
        "outputId": "f1ebea9a-7a2d-44cc-a2d5-6d8f3a25ca08"
      },
      "outputs": [
        {
          "output_type": "execute_result",
          "data": {
            "text/plain": [
              "0.49957562383296555"
            ]
          },
          "metadata": {},
          "execution_count": 63
        }
      ],
      "source": [
        "#get accuracy\n",
        "dummy.score(X_test, y_test)"
      ],
      "id": "a825bd4d-a9b2-4ff0-8165-a3d331186641"
    },
    {
      "cell_type": "code",
      "execution_count": 64,
      "metadata": {
        "id": "289405e8-f79a-4db7-a3d4-fa3febcefdbf"
      },
      "outputs": [],
      "source": [
        "# Create standardizer\n",
        "standardizer = StandardScaler()\n",
        "scaler = MinMaxScaler()"
      ],
      "id": "289405e8-f79a-4db7-a3d4-fa3febcefdbf"
    },
    {
      "cell_type": "code",
      "execution_count": 65,
      "metadata": {
        "id": "64459791-ae6b-43b1-a6f2-f4dbdace5439"
      },
      "outputs": [],
      "source": [
        "# Create the Logistic regression object\n",
        "logit = LogisticRegression()"
      ],
      "id": "64459791-ae6b-43b1-a6f2-f4dbdace5439"
    },
    {
      "cell_type": "code",
      "execution_count": 66,
      "metadata": {
        "id": "e2bc3d28-f090-4a54-8d6a-b80a8abd7df3"
      },
      "outputs": [],
      "source": [
        "# Create a pipeline that standardizes, then runs Logistics regression\n",
        "from sklearn.compose import make_column_transformer\n",
        "from sklearn.pipeline import make_pipeline\n",
        "#pipeline = make_pipeline(standardizer, logit)\n",
        "pipeline = make_pipeline(standardizer, logit)"
      ],
      "id": "e2bc3d28-f090-4a54-8d6a-b80a8abd7df3"
    },
    {
      "cell_type": "code",
      "execution_count": 67,
      "metadata": {
        "id": "ad35f876-e71b-49c8-86cf-07e621dd8769"
      },
      "outputs": [],
      "source": [
        "# Create k-fold cross-validation\n",
        "from sklearn import metrics\n",
        "from sklearn.model_selection import KFold, cross_val_score\n",
        "kf = KFold(n_splits=5, shuffle=True, random_state=0)"
      ],
      "id": "ad35f876-e71b-49c8-86cf-07e621dd8769"
    },
    {
      "cell_type": "code",
      "execution_count": 68,
      "metadata": {
        "id": "51445c7f-c003-481d-afa3-575392a3b39d"
      },
      "outputs": [],
      "source": [
        "# conduct k-fold cross-validation\n",
        "cv_results = cross_val_score(pipeline, #Pipeline\n",
        "                             X, # Features matrix\n",
        "                             y, # target vector\n",
        "                             cv=kf, # Performance metric\n",
        "                             scoring= 'accuracy', # Loss Function\n",
        "                             n_jobs=-1 # Use all CPUcores\n",
        "\n",
        ")"
      ],
      "id": "51445c7f-c003-481d-afa3-575392a3b39d"
    },
    {
      "cell_type": "code",
      "execution_count": 69,
      "metadata": {
        "colab": {
          "base_uri": "https://localhost:8080/"
        },
        "id": "6762f171-5bf3-46b7-8f19-f2d2aee2e51d",
        "outputId": "53f1e693-053b-45b8-f708-7fb6dca03ec8"
      },
      "outputs": [
        {
          "output_type": "execute_result",
          "data": {
            "text/plain": [
              "0.7473546755651613"
            ]
          },
          "metadata": {},
          "execution_count": 69
        }
      ],
      "source": [
        "#Calculate mean\n",
        "cv_results.mean()"
      ],
      "id": "6762f171-5bf3-46b7-8f19-f2d2aee2e51d"
    },
    {
      "cell_type": "code",
      "execution_count": 70,
      "metadata": {
        "id": "0fd5dfe9-46f6-48c5-a96a-cf6f88b91488"
      },
      "outputs": [],
      "source": [
        "#import the library\n",
        "from sklearn.model_selection import train_test_split"
      ],
      "id": "0fd5dfe9-46f6-48c5-a96a-cf6f88b91488"
    },
    {
      "cell_type": "code",
      "execution_count": 71,
      "metadata": {
        "id": "2431168f-e84e-49e0-a846-2f106d4f1964"
      },
      "outputs": [],
      "source": [
        "#Create training and test sets\n",
        "X_train, X_test, y_train, y_test = train_test_split(X, y, test_size=0.1, random_state=1)"
      ],
      "id": "2431168f-e84e-49e0-a846-2f106d4f1964"
    },
    {
      "cell_type": "code",
      "execution_count": 72,
      "metadata": {
        "colab": {
          "base_uri": "https://localhost:8080/",
          "height": 75
        },
        "id": "292f1a71-f1e0-430f-bb2a-dbb5169abdd9",
        "outputId": "80e6b183-a0e6-4773-ee7b-367e9ca5fcd4"
      },
      "outputs": [
        {
          "output_type": "execute_result",
          "data": {
            "text/plain": [
              "StandardScaler()"
            ],
            "text/html": [
              "<style>#sk-container-id-2 {color: black;background-color: white;}#sk-container-id-2 pre{padding: 0;}#sk-container-id-2 div.sk-toggleable {background-color: white;}#sk-container-id-2 label.sk-toggleable__label {cursor: pointer;display: block;width: 100%;margin-bottom: 0;padding: 0.3em;box-sizing: border-box;text-align: center;}#sk-container-id-2 label.sk-toggleable__label-arrow:before {content: \"▸\";float: left;margin-right: 0.25em;color: #696969;}#sk-container-id-2 label.sk-toggleable__label-arrow:hover:before {color: black;}#sk-container-id-2 div.sk-estimator:hover label.sk-toggleable__label-arrow:before {color: black;}#sk-container-id-2 div.sk-toggleable__content {max-height: 0;max-width: 0;overflow: hidden;text-align: left;background-color: #f0f8ff;}#sk-container-id-2 div.sk-toggleable__content pre {margin: 0.2em;color: black;border-radius: 0.25em;background-color: #f0f8ff;}#sk-container-id-2 input.sk-toggleable__control:checked~div.sk-toggleable__content {max-height: 200px;max-width: 100%;overflow: auto;}#sk-container-id-2 input.sk-toggleable__control:checked~label.sk-toggleable__label-arrow:before {content: \"▾\";}#sk-container-id-2 div.sk-estimator input.sk-toggleable__control:checked~label.sk-toggleable__label {background-color: #d4ebff;}#sk-container-id-2 div.sk-label input.sk-toggleable__control:checked~label.sk-toggleable__label {background-color: #d4ebff;}#sk-container-id-2 input.sk-hidden--visually {border: 0;clip: rect(1px 1px 1px 1px);clip: rect(1px, 1px, 1px, 1px);height: 1px;margin: -1px;overflow: hidden;padding: 0;position: absolute;width: 1px;}#sk-container-id-2 div.sk-estimator {font-family: monospace;background-color: #f0f8ff;border: 1px dotted black;border-radius: 0.25em;box-sizing: border-box;margin-bottom: 0.5em;}#sk-container-id-2 div.sk-estimator:hover {background-color: #d4ebff;}#sk-container-id-2 div.sk-parallel-item::after {content: \"\";width: 100%;border-bottom: 1px solid gray;flex-grow: 1;}#sk-container-id-2 div.sk-label:hover label.sk-toggleable__label {background-color: #d4ebff;}#sk-container-id-2 div.sk-serial::before {content: \"\";position: absolute;border-left: 1px solid gray;box-sizing: border-box;top: 0;bottom: 0;left: 50%;z-index: 0;}#sk-container-id-2 div.sk-serial {display: flex;flex-direction: column;align-items: center;background-color: white;padding-right: 0.2em;padding-left: 0.2em;position: relative;}#sk-container-id-2 div.sk-item {position: relative;z-index: 1;}#sk-container-id-2 div.sk-parallel {display: flex;align-items: stretch;justify-content: center;background-color: white;position: relative;}#sk-container-id-2 div.sk-item::before, #sk-container-id-2 div.sk-parallel-item::before {content: \"\";position: absolute;border-left: 1px solid gray;box-sizing: border-box;top: 0;bottom: 0;left: 50%;z-index: -1;}#sk-container-id-2 div.sk-parallel-item {display: flex;flex-direction: column;z-index: 1;position: relative;background-color: white;}#sk-container-id-2 div.sk-parallel-item:first-child::after {align-self: flex-end;width: 50%;}#sk-container-id-2 div.sk-parallel-item:last-child::after {align-self: flex-start;width: 50%;}#sk-container-id-2 div.sk-parallel-item:only-child::after {width: 0;}#sk-container-id-2 div.sk-dashed-wrapped {border: 1px dashed gray;margin: 0 0.4em 0.5em 0.4em;box-sizing: border-box;padding-bottom: 0.4em;background-color: white;}#sk-container-id-2 div.sk-label label {font-family: monospace;font-weight: bold;display: inline-block;line-height: 1.2em;}#sk-container-id-2 div.sk-label-container {text-align: center;}#sk-container-id-2 div.sk-container {/* jupyter's `normalize.less` sets `[hidden] { display: none; }` but bootstrap.min.css set `[hidden] { display: none !important; }` so we also need the `!important` here to be able to override the default hidden behavior on the sphinx rendered scikit-learn.org. See: https://github.com/scikit-learn/scikit-learn/issues/21755 */display: inline-block !important;position: relative;}#sk-container-id-2 div.sk-text-repr-fallback {display: none;}</style><div id=\"sk-container-id-2\" class=\"sk-top-container\"><div class=\"sk-text-repr-fallback\"><pre>StandardScaler()</pre><b>In a Jupyter environment, please rerun this cell to show the HTML representation or trust the notebook. <br />On GitHub, the HTML representation is unable to render, please try loading this page with nbviewer.org.</b></div><div class=\"sk-container\" hidden><div class=\"sk-item\"><div class=\"sk-estimator sk-toggleable\"><input class=\"sk-toggleable__control sk-hidden--visually\" id=\"sk-estimator-id-2\" type=\"checkbox\" checked><label for=\"sk-estimator-id-2\" class=\"sk-toggleable__label sk-toggleable__label-arrow\">StandardScaler</label><div class=\"sk-toggleable__content\"><pre>StandardScaler()</pre></div></div></div></div></div>"
            ]
          },
          "metadata": {},
          "execution_count": 72
        }
      ],
      "source": [
        "#Fit standardizer to training set\n",
        "standardizer.fit(X_train)"
      ],
      "id": "292f1a71-f1e0-430f-bb2a-dbb5169abdd9"
    },
    {
      "cell_type": "code",
      "execution_count": 73,
      "metadata": {
        "id": "b098f13f-9b9c-431d-bec6-3b292800b1db"
      },
      "outputs": [],
      "source": [
        "#Apply to both training and test sets which can then be used to train models\n",
        "features_train_std = standardizer.transform(X_train)\n",
        "features_test_std = standardizer.transform(X_test)"
      ],
      "id": "b098f13f-9b9c-431d-bec6-3b292800b1db"
    },
    {
      "cell_type": "code",
      "execution_count": 74,
      "metadata": {
        "id": "0cabbc33-df0f-499a-ad14-d1263146e315"
      },
      "outputs": [],
      "source": [
        "#Create a pipeline\n",
        "pipeline = make_pipeline(scaler,logit)"
      ],
      "id": "0cabbc33-df0f-499a-ad14-d1263146e315"
    },
    {
      "cell_type": "code",
      "execution_count": 75,
      "metadata": {
        "id": "7fbfa945-6384-4026-aef4-74a86bd4dd36"
      },
      "outputs": [],
      "source": [
        "# conduct k-fold cross-validation\n",
        "cv_results = cross_val_score(pipeline, #Pipeline\n",
        "                             X_train, # Features matrix\n",
        "                             y_train, # target vector\n",
        "                             cv=kf, # Performance metric\n",
        "                             scoring= 'accuracy', # Loss Function\n",
        "                             n_jobs=-1 # Use all CPUcores\n",
        "\n",
        ")"
      ],
      "id": "7fbfa945-6384-4026-aef4-74a86bd4dd36"
    },
    {
      "cell_type": "code",
      "execution_count": 76,
      "metadata": {
        "colab": {
          "base_uri": "https://localhost:8080/"
        },
        "id": "8838c04f-eab4-4d33-96a0-2a7d8de910a5",
        "outputId": "1d999593-9446-494c-90e4-f1b0f1b5940d"
      },
      "outputs": [
        {
          "output_type": "execute_result",
          "data": {
            "text/plain": [
              "0.7484990065646406"
            ]
          },
          "metadata": {},
          "execution_count": 76
        }
      ],
      "source": [
        "# Calculate mean\n",
        "cv_results.mean()"
      ],
      "id": "8838c04f-eab4-4d33-96a0-2a7d8de910a5"
    },
    {
      "cell_type": "code",
      "execution_count": 77,
      "metadata": {
        "id": "49d88f53-b7d9-4ef6-9cee-bbca12f3850a"
      },
      "outputs": [],
      "source": [
        "# Load library\n",
        "from sklearn.ensemble import RandomForestClassifier"
      ],
      "id": "49d88f53-b7d9-4ef6-9cee-bbca12f3850a"
    },
    {
      "cell_type": "code",
      "execution_count": 78,
      "metadata": {
        "colab": {
          "base_uri": "https://localhost:8080/",
          "height": 75
        },
        "id": "ab5aba2b-9bb4-4ea7-936a-4fdb96daea57",
        "outputId": "e562d569-bcf1-4b2e-d5fe-8ce9d95570b9"
      },
      "outputs": [
        {
          "output_type": "execute_result",
          "data": {
            "text/plain": [
              "RandomForestClassifier()"
            ],
            "text/html": [
              "<style>#sk-container-id-3 {color: black;background-color: white;}#sk-container-id-3 pre{padding: 0;}#sk-container-id-3 div.sk-toggleable {background-color: white;}#sk-container-id-3 label.sk-toggleable__label {cursor: pointer;display: block;width: 100%;margin-bottom: 0;padding: 0.3em;box-sizing: border-box;text-align: center;}#sk-container-id-3 label.sk-toggleable__label-arrow:before {content: \"▸\";float: left;margin-right: 0.25em;color: #696969;}#sk-container-id-3 label.sk-toggleable__label-arrow:hover:before {color: black;}#sk-container-id-3 div.sk-estimator:hover label.sk-toggleable__label-arrow:before {color: black;}#sk-container-id-3 div.sk-toggleable__content {max-height: 0;max-width: 0;overflow: hidden;text-align: left;background-color: #f0f8ff;}#sk-container-id-3 div.sk-toggleable__content pre {margin: 0.2em;color: black;border-radius: 0.25em;background-color: #f0f8ff;}#sk-container-id-3 input.sk-toggleable__control:checked~div.sk-toggleable__content {max-height: 200px;max-width: 100%;overflow: auto;}#sk-container-id-3 input.sk-toggleable__control:checked~label.sk-toggleable__label-arrow:before {content: \"▾\";}#sk-container-id-3 div.sk-estimator input.sk-toggleable__control:checked~label.sk-toggleable__label {background-color: #d4ebff;}#sk-container-id-3 div.sk-label input.sk-toggleable__control:checked~label.sk-toggleable__label {background-color: #d4ebff;}#sk-container-id-3 input.sk-hidden--visually {border: 0;clip: rect(1px 1px 1px 1px);clip: rect(1px, 1px, 1px, 1px);height: 1px;margin: -1px;overflow: hidden;padding: 0;position: absolute;width: 1px;}#sk-container-id-3 div.sk-estimator {font-family: monospace;background-color: #f0f8ff;border: 1px dotted black;border-radius: 0.25em;box-sizing: border-box;margin-bottom: 0.5em;}#sk-container-id-3 div.sk-estimator:hover {background-color: #d4ebff;}#sk-container-id-3 div.sk-parallel-item::after {content: \"\";width: 100%;border-bottom: 1px solid gray;flex-grow: 1;}#sk-container-id-3 div.sk-label:hover label.sk-toggleable__label {background-color: #d4ebff;}#sk-container-id-3 div.sk-serial::before {content: \"\";position: absolute;border-left: 1px solid gray;box-sizing: border-box;top: 0;bottom: 0;left: 50%;z-index: 0;}#sk-container-id-3 div.sk-serial {display: flex;flex-direction: column;align-items: center;background-color: white;padding-right: 0.2em;padding-left: 0.2em;position: relative;}#sk-container-id-3 div.sk-item {position: relative;z-index: 1;}#sk-container-id-3 div.sk-parallel {display: flex;align-items: stretch;justify-content: center;background-color: white;position: relative;}#sk-container-id-3 div.sk-item::before, #sk-container-id-3 div.sk-parallel-item::before {content: \"\";position: absolute;border-left: 1px solid gray;box-sizing: border-box;top: 0;bottom: 0;left: 50%;z-index: -1;}#sk-container-id-3 div.sk-parallel-item {display: flex;flex-direction: column;z-index: 1;position: relative;background-color: white;}#sk-container-id-3 div.sk-parallel-item:first-child::after {align-self: flex-end;width: 50%;}#sk-container-id-3 div.sk-parallel-item:last-child::after {align-self: flex-start;width: 50%;}#sk-container-id-3 div.sk-parallel-item:only-child::after {width: 0;}#sk-container-id-3 div.sk-dashed-wrapped {border: 1px dashed gray;margin: 0 0.4em 0.5em 0.4em;box-sizing: border-box;padding-bottom: 0.4em;background-color: white;}#sk-container-id-3 div.sk-label label {font-family: monospace;font-weight: bold;display: inline-block;line-height: 1.2em;}#sk-container-id-3 div.sk-label-container {text-align: center;}#sk-container-id-3 div.sk-container {/* jupyter's `normalize.less` sets `[hidden] { display: none; }` but bootstrap.min.css set `[hidden] { display: none !important; }` so we also need the `!important` here to be able to override the default hidden behavior on the sphinx rendered scikit-learn.org. See: https://github.com/scikit-learn/scikit-learn/issues/21755 */display: inline-block !important;position: relative;}#sk-container-id-3 div.sk-text-repr-fallback {display: none;}</style><div id=\"sk-container-id-3\" class=\"sk-top-container\"><div class=\"sk-text-repr-fallback\"><pre>RandomForestClassifier()</pre><b>In a Jupyter environment, please rerun this cell to show the HTML representation or trust the notebook. <br />On GitHub, the HTML representation is unable to render, please try loading this page with nbviewer.org.</b></div><div class=\"sk-container\" hidden><div class=\"sk-item\"><div class=\"sk-estimator sk-toggleable\"><input class=\"sk-toggleable__control sk-hidden--visually\" id=\"sk-estimator-id-3\" type=\"checkbox\" checked><label for=\"sk-estimator-id-3\" class=\"sk-toggleable__label sk-toggleable__label-arrow\">RandomForestClassifier</label><div class=\"sk-toggleable__content\"><pre>RandomForestClassifier()</pre></div></div></div></div></div>"
            ]
          },
          "metadata": {},
          "execution_count": 78
        }
      ],
      "source": [
        "#Create classifier\n",
        "classifier = RandomForestClassifier()\n",
        "#train the model\n",
        "classifier.fit(X_train, y_train)"
      ],
      "id": "ab5aba2b-9bb4-4ea7-936a-4fdb96daea57"
    },
    {
      "cell_type": "code",
      "execution_count": 79,
      "metadata": {
        "colab": {
          "base_uri": "https://localhost:8080/"
        },
        "id": "b87d0a0c-40d8-448e-8a60-9a5aa2df6c3e",
        "outputId": "fbdee268-6701-4cb2-ca88-b06bdce3548e"
      },
      "outputs": [
        {
          "output_type": "execute_result",
          "data": {
            "text/plain": [
              "0.7239038189533239"
            ]
          },
          "metadata": {},
          "execution_count": 79
        }
      ],
      "source": [
        "#Get accuracy score\n",
        "classifier.score(X_test, y_test)"
      ],
      "id": "b87d0a0c-40d8-448e-8a60-9a5aa2df6c3e"
    },
    {
      "cell_type": "code",
      "execution_count": 80,
      "metadata": {
        "id": "d23393bf-0407-4596-b16a-9450bd50ee62"
      },
      "outputs": [],
      "source": [
        "pipeline2 = make_pipeline(scaler, classifier)"
      ],
      "id": "d23393bf-0407-4596-b16a-9450bd50ee62"
    },
    {
      "cell_type": "code",
      "execution_count": 81,
      "metadata": {
        "id": "54a071c6-edbe-48a5-a961-138e221dfafd"
      },
      "outputs": [],
      "source": [
        "cv_results1 = cross_val_score(pipeline2, #Pipeline\n",
        "                             X_train, # Features matrix\n",
        "                             y_train, # target vector\n",
        "                             cv=kf, # Performance metric\n",
        "                             scoring= 'accuracy', # Loss Function\n",
        "                             n_jobs=-1 # Use all CPUcores\n",
        "\n",
        ")"
      ],
      "id": "54a071c6-edbe-48a5-a961-138e221dfafd"
    },
    {
      "cell_type": "code",
      "execution_count": 82,
      "metadata": {
        "colab": {
          "base_uri": "https://localhost:8080/"
        },
        "id": "b7980ab2-53bb-4422-b954-94fee27d427b",
        "outputId": "792977e8-707f-4eea-8b28-b1664f6f351c"
      },
      "outputs": [
        {
          "output_type": "execute_result",
          "data": {
            "text/plain": [
              "0.7266510982139163"
            ]
          },
          "metadata": {},
          "execution_count": 82
        }
      ],
      "source": [
        "cv_results1.mean()"
      ],
      "id": "b7980ab2-53bb-4422-b954-94fee27d427b"
    },
    {
      "cell_type": "code",
      "execution_count": 83,
      "metadata": {
        "colab": {
          "base_uri": "https://localhost:8080/"
        },
        "id": "210a6ae3-24bc-4c7a-8604-46e2149113ca",
        "outputId": "ff0b6b0c-c2b7-437f-a3dc-25fe0a492f59"
      },
      "outputs": [
        {
          "output_type": "execute_result",
          "data": {
            "text/plain": [
              "0.5070721357850071"
            ]
          },
          "metadata": {},
          "execution_count": 83
        }
      ],
      "source": [
        "#Creation of a baseline Classification Model\n",
        "from sklearn.dummy import DummyClassifier\n",
        "#create dummy classifier\n",
        "dummy = DummyClassifier(strategy='uniform', random_state=1)\n",
        "#train model\n",
        "dummy.fit(X_train, y_train)\n",
        "#Get accuracy score\n",
        "dummy.score(X_test, y_test)"
      ],
      "id": "210a6ae3-24bc-4c7a-8604-46e2149113ca"
    },
    {
      "cell_type": "code",
      "execution_count": 84,
      "metadata": {
        "colab": {
          "base_uri": "https://localhost:8080/",
          "height": 75
        },
        "id": "a7234d82-9092-4cfb-adbb-553b4a8b51ce",
        "outputId": "e103c2b9-c753-4a42-a087-7225e214b7f3"
      },
      "outputs": [
        {
          "output_type": "execute_result",
          "data": {
            "text/plain": [
              "LogisticRegression()"
            ],
            "text/html": [
              "<style>#sk-container-id-4 {color: black;background-color: white;}#sk-container-id-4 pre{padding: 0;}#sk-container-id-4 div.sk-toggleable {background-color: white;}#sk-container-id-4 label.sk-toggleable__label {cursor: pointer;display: block;width: 100%;margin-bottom: 0;padding: 0.3em;box-sizing: border-box;text-align: center;}#sk-container-id-4 label.sk-toggleable__label-arrow:before {content: \"▸\";float: left;margin-right: 0.25em;color: #696969;}#sk-container-id-4 label.sk-toggleable__label-arrow:hover:before {color: black;}#sk-container-id-4 div.sk-estimator:hover label.sk-toggleable__label-arrow:before {color: black;}#sk-container-id-4 div.sk-toggleable__content {max-height: 0;max-width: 0;overflow: hidden;text-align: left;background-color: #f0f8ff;}#sk-container-id-4 div.sk-toggleable__content pre {margin: 0.2em;color: black;border-radius: 0.25em;background-color: #f0f8ff;}#sk-container-id-4 input.sk-toggleable__control:checked~div.sk-toggleable__content {max-height: 200px;max-width: 100%;overflow: auto;}#sk-container-id-4 input.sk-toggleable__control:checked~label.sk-toggleable__label-arrow:before {content: \"▾\";}#sk-container-id-4 div.sk-estimator input.sk-toggleable__control:checked~label.sk-toggleable__label {background-color: #d4ebff;}#sk-container-id-4 div.sk-label input.sk-toggleable__control:checked~label.sk-toggleable__label {background-color: #d4ebff;}#sk-container-id-4 input.sk-hidden--visually {border: 0;clip: rect(1px 1px 1px 1px);clip: rect(1px, 1px, 1px, 1px);height: 1px;margin: -1px;overflow: hidden;padding: 0;position: absolute;width: 1px;}#sk-container-id-4 div.sk-estimator {font-family: monospace;background-color: #f0f8ff;border: 1px dotted black;border-radius: 0.25em;box-sizing: border-box;margin-bottom: 0.5em;}#sk-container-id-4 div.sk-estimator:hover {background-color: #d4ebff;}#sk-container-id-4 div.sk-parallel-item::after {content: \"\";width: 100%;border-bottom: 1px solid gray;flex-grow: 1;}#sk-container-id-4 div.sk-label:hover label.sk-toggleable__label {background-color: #d4ebff;}#sk-container-id-4 div.sk-serial::before {content: \"\";position: absolute;border-left: 1px solid gray;box-sizing: border-box;top: 0;bottom: 0;left: 50%;z-index: 0;}#sk-container-id-4 div.sk-serial {display: flex;flex-direction: column;align-items: center;background-color: white;padding-right: 0.2em;padding-left: 0.2em;position: relative;}#sk-container-id-4 div.sk-item {position: relative;z-index: 1;}#sk-container-id-4 div.sk-parallel {display: flex;align-items: stretch;justify-content: center;background-color: white;position: relative;}#sk-container-id-4 div.sk-item::before, #sk-container-id-4 div.sk-parallel-item::before {content: \"\";position: absolute;border-left: 1px solid gray;box-sizing: border-box;top: 0;bottom: 0;left: 50%;z-index: -1;}#sk-container-id-4 div.sk-parallel-item {display: flex;flex-direction: column;z-index: 1;position: relative;background-color: white;}#sk-container-id-4 div.sk-parallel-item:first-child::after {align-self: flex-end;width: 50%;}#sk-container-id-4 div.sk-parallel-item:last-child::after {align-self: flex-start;width: 50%;}#sk-container-id-4 div.sk-parallel-item:only-child::after {width: 0;}#sk-container-id-4 div.sk-dashed-wrapped {border: 1px dashed gray;margin: 0 0.4em 0.5em 0.4em;box-sizing: border-box;padding-bottom: 0.4em;background-color: white;}#sk-container-id-4 div.sk-label label {font-family: monospace;font-weight: bold;display: inline-block;line-height: 1.2em;}#sk-container-id-4 div.sk-label-container {text-align: center;}#sk-container-id-4 div.sk-container {/* jupyter's `normalize.less` sets `[hidden] { display: none; }` but bootstrap.min.css set `[hidden] { display: none !important; }` so we also need the `!important` here to be able to override the default hidden behavior on the sphinx rendered scikit-learn.org. See: https://github.com/scikit-learn/scikit-learn/issues/21755 */display: inline-block !important;position: relative;}#sk-container-id-4 div.sk-text-repr-fallback {display: none;}</style><div id=\"sk-container-id-4\" class=\"sk-top-container\"><div class=\"sk-text-repr-fallback\"><pre>LogisticRegression()</pre><b>In a Jupyter environment, please rerun this cell to show the HTML representation or trust the notebook. <br />On GitHub, the HTML representation is unable to render, please try loading this page with nbviewer.org.</b></div><div class=\"sk-container\" hidden><div class=\"sk-item\"><div class=\"sk-estimator sk-toggleable\"><input class=\"sk-toggleable__control sk-hidden--visually\" id=\"sk-estimator-id-4\" type=\"checkbox\" checked><label for=\"sk-estimator-id-4\" class=\"sk-toggleable__label sk-toggleable__label-arrow\">LogisticRegression</label><div class=\"sk-toggleable__content\"><pre>LogisticRegression()</pre></div></div></div></div></div>"
            ]
          },
          "metadata": {},
          "execution_count": 84
        }
      ],
      "source": [
        "#Train model\n",
        "logit.fit(X_train, y_train)"
      ],
      "id": "a7234d82-9092-4cfb-adbb-553b4a8b51ce"
    },
    {
      "cell_type": "code",
      "execution_count": 87,
      "metadata": {
        "id": "c918a3a6-1dc8-4120-9357-6ed54f9408ca"
      },
      "outputs": [],
      "source": [
        "#Get predicted probabilities\n",
        "target_probabilities = logit.predict_proba(X_test)[:,1]"
      ],
      "id": "c918a3a6-1dc8-4120-9357-6ed54f9408ca"
    },
    {
      "cell_type": "code",
      "execution_count": 90,
      "metadata": {
        "id": "db674ec4-5bbd-4d31-b33a-da36a8de3608"
      },
      "outputs": [],
      "source": [
        "#create true and false positive rates\n",
        "from sklearn.metrics import roc_curve, roc_auc_score\n",
        "false_positive_rate, true_positive_rate, threshold = roc_curve(\n",
        "y_test,\n",
        "target_probabilities\n",
        ")"
      ],
      "id": "db674ec4-5bbd-4d31-b33a-da36a8de3608"
    },
    {
      "cell_type": "code",
      "execution_count": 91,
      "metadata": {
        "colab": {
          "base_uri": "https://localhost:8080/",
          "height": 472
        },
        "id": "1d4b069c-78ac-4c5f-ba79-811b3269616f",
        "outputId": "02da6c4d-1529-4651-d214-9858b1628413"
      },
      "outputs": [
        {
          "output_type": "display_data",
          "data": {
            "text/plain": [
              "<Figure size 640x480 with 1 Axes>"
            ],
            "image/png": "[encoded data removed]"
          },
          "metadata": {}
        }
      ],
      "source": [
        "#Plot ROC curve\n",
        "plt.title(\"Receiver Operating Characteristic\")\n",
        "plt.plot(false_positive_rate, true_positive_rate)\n",
        "plt.plot([0,1], ls='--')\n",
        "plt.plot([0, 0], [1, 0], c='.7'), plt.plot([1, 1], c='.7')\n",
        "plt.ylabel('True Positive Rate')\n",
        "plt.xlabel('False Positive Rate')\n",
        "plt.show()"
      ],
      "id": "1d4b069c-78ac-4c5f-ba79-811b3269616f"
    },
    {
      "cell_type": "code",
      "execution_count": 92,
      "metadata": {
        "colab": {
          "base_uri": "https://localhost:8080/"
        },
        "id": "088b9b8d-d257-4214-a8ff-561a83719608",
        "outputId": "7e6c7560-4c52-4846-9088-8076f45d3e79"
      },
      "outputs": [
        {
          "output_type": "execute_result",
          "data": {
            "text/plain": [
              "array([[0.87195571, 0.12804429]])"
            ]
          },
          "metadata": {},
          "execution_count": 92
        }
      ],
      "source": [
        "logit.predict_proba(X_test)[0:1]"
      ],
      "id": "088b9b8d-d257-4214-a8ff-561a83719608"
    },
    {
      "cell_type": "code",
      "execution_count": 93,
      "metadata": {
        "colab": {
          "base_uri": "https://localhost:8080/"
        },
        "id": "c382c26c-ed9d-42a5-bd34-19f1e8eb49de",
        "outputId": "420d8503-4337-468f-b5da-265493a9d3a6"
      },
      "outputs": [
        {
          "output_type": "execute_result",
          "data": {
            "text/plain": [
              "array([0., 1.])"
            ]
          },
          "metadata": {},
          "execution_count": 93
        }
      ],
      "source": [
        "logit.classes_"
      ],
      "id": "c382c26c-ed9d-42a5-bd34-19f1e8eb49de"
    },
    {
      "cell_type": "code",
      "execution_count": 95,
      "metadata": {
        "colab": {
          "base_uri": "https://localhost:8080/"
        },
        "id": "3e814029-7adc-43b0-8533-7b169b56742c",
        "outputId": "1a5faff1-b97d-42a1-8381-f943a6463502"
      },
      "outputs": [
        {
          "output_type": "execute_result",
          "data": {
            "text/plain": [
              "0.8166838471795779"
            ]
          },
          "metadata": {},
          "execution_count": 95
        }
      ],
      "source": [
        "#Calculate area under the curve\n",
        "roc_auc_score(y_test, target_probabilities)"
      ],
      "id": "3e814029-7adc-43b0-8533-7b169b56742c"
    },
    {
      "cell_type": "code",
      "execution_count": 96,
      "metadata": {
        "colab": {
          "base_uri": "https://localhost:8080/"
        },
        "id": "4e6ce803-a9ac-40b0-8e9a-c7fa00bae10b",
        "outputId": "06fb0872-c237-4064-96c8-2f14b87cb9a1"
      },
      "outputs": [
        {
          "output_type": "stream",
          "name": "stdout",
          "text": [
            "              precision    recall  f1-score   support\n",
            "\n",
            "         0.0       0.75      0.71      0.73      3608\n",
            "         1.0       0.72      0.76      0.74      3462\n",
            "\n",
            "    accuracy                           0.73      7070\n",
            "   macro avg       0.74      0.74      0.73      7070\n",
            "weighted avg       0.74      0.73      0.73      7070\n",
            "\n"
          ]
        }
      ],
      "source": [
        "# Create a classification report\n",
        "from sklearn.metrics import classification_report\n",
        "target_predicted = logit.predict(X_test)\n",
        "print(classification_report(y_test,\n",
        "                           target_predicted\n",
        "                           ))"
      ],
      "id": "4e6ce803-a9ac-40b0-8e9a-c7fa00bae10b"
    },
    {
      "cell_type": "code",
      "execution_count": 97,
      "metadata": {
        "id": "qlBF3Auj-lCA"
      },
      "outputs": [],
      "source": [
        "from sklearn.ensemble import ExtraTreesClassifier\n",
        "from sklearn.model_selection import GridSearchCV\n",
        "from sklearn.metrics import classification_report, mean_squared_error\n",
        "from sklearn.pipeline import Pipeline\n",
        "import time"
      ],
      "id": "qlBF3Auj-lCA"
    },
    {
      "cell_type": "code",
      "execution_count": 121,
      "metadata": {
        "id": "964448b5-a9bd-45eb-9db0-10fddc50338c"
      },
      "outputs": [],
      "source": [
        "def simple_grid_search(X_train, y_train, X_test, y_test, feature_engineering_pipeline):\n",
        "    '''\n",
        "    simple helper function to grid search an ExtraTreesClassifier model and\n",
        "    print out a classification report for the best param set.\n",
        "    Best here is defined as having the best cross-validated accuracy on the training set\n",
        "    '''\n",
        "\n",
        "    params = {  # some simple parameters to grid search\n",
        "        'max_depth': [10, None],\n",
        "        'n_estimators': [10, 50, 100, 500],\n",
        "        'criterion': ['gini', 'entropy']\n",
        "    }\n",
        "\n",
        "    base_model = RandomForestClassifier()\n",
        "\n",
        "    model_grid_search = GridSearchCV(base_model, param_grid=params, cv=3)\n",
        "    start_time = time.time()  # capture the start time\n",
        "    if feature_engineering_pipeline:  # fit FE pipeline to training data and use it to transform test data\n",
        "        parsed_x_train = feature_engineering_pipeline.fit(X_train, y_train)\n",
        "        parsed_x_train = feature_engineering_pipeline.transform(X_train)\n",
        "        parsed_x_test = feature_engineering_pipeline.transform(X_test)\n",
        "    else:\n",
        "        parsed_x_train = X_train\n",
        "        parsed_x_test = X_test\n",
        "\n",
        "    parse_time = time.time()\n",
        "    print(f\"Parsing took {(parse_time - start_time):.2f} seconds\")\n",
        "\n",
        "    model_grid_search.fit(parsed_x_train, y_train)\n",
        "    fit_time = time.time()\n",
        "    print(f\"Training took {(fit_time - start_time):.2f} seconds\")\n",
        "\n",
        "    best_model = model_grid_search.best_estimator_\n",
        "\n",
        "    print(classification_report(y_true=y_test, y_pred=best_model.predict(parsed_x_test)))\n",
        "    end_time = time.time()\n",
        "    print(f\"Overall took {(end_time - start_time):.2f} seconds\")\n",
        "\n",
        "    return best_model"
      ],
      "id": "964448b5-a9bd-45eb-9db0-10fddc50338c"
    },
    {
      "cell_type": "code",
      "execution_count": 103,
      "metadata": {
        "id": "0bf9417d-a7b5-40a5-8768-7355cc450989"
      },
      "outputs": [],
      "source": [
        "def advanced_grid_search(x_train, y_train, x_test, y_test, ml_pipeline, params, cv=3, include_probas=False, is_regression=False):\n",
        "    '''\n",
        "    This helper function will grid search a machine learning pipeline with feature engineering included\n",
        "    and print out a classification report for the best param set.\n",
        "    Best here is defined as having the best cross-validated accuracy on the training set\n",
        "    '''\n",
        "\n",
        "    model_grid_search = GridSearchCV(ml_pipeline, param_grid=params, cv=cv, error_score=-1)\n",
        "    start_time = time.time()  # capture the start time\n",
        "\n",
        "    model_grid_search.fit(x_train, y_train)\n",
        "\n",
        "    best_model = model_grid_search.best_estimator_\n",
        "\n",
        "    y_preds = best_model.predict(x_test)\n",
        "\n",
        "    if is_regression:\n",
        "        rmse = np.sqrt(mean_squared_error(y_pred=y_preds, y_true=test_set['pct_change_eod']))\n",
        "        print(f'RMSE: {rmse:.5f}')\n",
        "    else:\n",
        "        print(classification_report(y_true=y_test, y_pred=y_preds))\n",
        "    print(f'Best params: {model_grid_search.best_params_}')\n",
        "    end_time = time.time()\n",
        "    print(f\"Overall took {(end_time - start_time):.2f} seconds\")\n",
        "\n",
        "    if include_probas:\n",
        "        y_probas = best_model.predict_proba(x_test).max(axis=1)\n",
        "        return best_model, y_preds, y_probas\n",
        "\n",
        "    return best_model, y_preds"
      ],
      "id": "0bf9417d-a7b5-40a5-8768-7355cc450989"
    },
    {
      "cell_type": "code",
      "source": [
        "#making a pipeline\n",
        "scaler = StandardScaler()\n",
        "#putting numerical columns to scaler\n",
        "num_transformer = make_pipeline(scaler)\n",
        "preprocess = make_column_transformer((num_transformer, features))\n",
        "\n",
        "\n",
        "\n",
        "\n",
        "pipe = Pipeline(('scaler', StandardScaler())\n",
        "                       )\n"
      ],
      "metadata": {
        "id": "T5LEh74sgJCN"
      },
      "id": "T5LEh74sgJCN",
      "execution_count": 104,
      "outputs": []
    },
    {
      "cell_type": "code",
      "source": [],
      "metadata": {
        "id": "0F9NSRfWgJGS"
      },
      "id": "0F9NSRfWgJGS",
      "execution_count": null,
      "outputs": []
    },
    {
      "cell_type": "code",
      "execution_count": 122,
      "metadata": {
        "colab": {
          "base_uri": "https://localhost:8080/",
          "height": 283
        },
        "id": "552daf9e-0bd7-4ce7-aa5c-0e7ced4ce294",
        "outputId": "50ae3b26-6fea-4be5-e205-06739dbb30aa"
      },
      "outputs": [
        {
          "output_type": "stream",
          "name": "stdout",
          "text": [
            "Parsing took 0.03 seconds\n",
            "Training took 358.51 seconds\n",
            "              precision    recall  f1-score   support\n",
            "\n",
            "         0.0       0.78      0.71      0.74      3608\n",
            "         1.0       0.72      0.79      0.75      3462\n",
            "\n",
            "    accuracy                           0.75      7070\n",
            "   macro avg       0.75      0.75      0.75      7070\n",
            "weighted avg       0.75      0.75      0.75      7070\n",
            "\n",
            "Overall took 359.08 seconds\n"
          ]
        },
        {
          "output_type": "execute_result",
          "data": {
            "text/plain": [
              "RandomForestClassifier(criterion='entropy', max_depth=10, n_estimators=500)"
            ],
            "text/html": [
              "<style>#sk-container-id-7 {color: black;background-color: white;}#sk-container-id-7 pre{padding: 0;}#sk-container-id-7 div.sk-toggleable {background-color: white;}#sk-container-id-7 label.sk-toggleable__label {cursor: pointer;display: block;width: 100%;margin-bottom: 0;padding: 0.3em;box-sizing: border-box;text-align: center;}#sk-container-id-7 label.sk-toggleable__label-arrow:before {content: \"▸\";float: left;margin-right: 0.25em;color: #696969;}#sk-container-id-7 label.sk-toggleable__label-arrow:hover:before {color: black;}#sk-container-id-7 div.sk-estimator:hover label.sk-toggleable__label-arrow:before {color: black;}#sk-container-id-7 div.sk-toggleable__content {max-height: 0;max-width: 0;overflow: hidden;text-align: left;background-color: #f0f8ff;}#sk-container-id-7 div.sk-toggleable__content pre {margin: 0.2em;color: black;border-radius: 0.25em;background-color: #f0f8ff;}#sk-container-id-7 input.sk-toggleable__control:checked~div.sk-toggleable__content {max-height: 200px;max-width: 100%;overflow: auto;}#sk-container-id-7 input.sk-toggleable__control:checked~label.sk-toggleable__label-arrow:before {content: \"▾\";}#sk-container-id-7 div.sk-estimator input.sk-toggleable__control:checked~label.sk-toggleable__label {background-color: #d4ebff;}#sk-container-id-7 div.sk-label input.sk-toggleable__control:checked~label.sk-toggleable__label {background-color: #d4ebff;}#sk-container-id-7 input.sk-hidden--visually {border: 0;clip: rect(1px 1px 1px 1px);clip: rect(1px, 1px, 1px, 1px);height: 1px;margin: -1px;overflow: hidden;padding: 0;position: absolute;width: 1px;}#sk-container-id-7 div.sk-estimator {font-family: monospace;background-color: #f0f8ff;border: 1px dotted black;border-radius: 0.25em;box-sizing: border-box;margin-bottom: 0.5em;}#sk-container-id-7 div.sk-estimator:hover {background-color: #d4ebff;}#sk-container-id-7 div.sk-parallel-item::after {content: \"\";width: 100%;border-bottom: 1px solid gray;flex-grow: 1;}#sk-container-id-7 div.sk-label:hover label.sk-toggleable__label {background-color: #d4ebff;}#sk-container-id-7 div.sk-serial::before {content: \"\";position: absolute;border-left: 1px solid gray;box-sizing: border-box;top: 0;bottom: 0;left: 50%;z-index: 0;}#sk-container-id-7 div.sk-serial {display: flex;flex-direction: column;align-items: center;background-color: white;padding-right: 0.2em;padding-left: 0.2em;position: relative;}#sk-container-id-7 div.sk-item {position: relative;z-index: 1;}#sk-container-id-7 div.sk-parallel {display: flex;align-items: stretch;justify-content: center;background-color: white;position: relative;}#sk-container-id-7 div.sk-item::before, #sk-container-id-7 div.sk-parallel-item::before {content: \"\";position: absolute;border-left: 1px solid gray;box-sizing: border-box;top: 0;bottom: 0;left: 50%;z-index: -1;}#sk-container-id-7 div.sk-parallel-item {display: flex;flex-direction: column;z-index: 1;position: relative;background-color: white;}#sk-container-id-7 div.sk-parallel-item:first-child::after {align-self: flex-end;width: 50%;}#sk-container-id-7 div.sk-parallel-item:last-child::after {align-self: flex-start;width: 50%;}#sk-container-id-7 div.sk-parallel-item:only-child::after {width: 0;}#sk-container-id-7 div.sk-dashed-wrapped {border: 1px dashed gray;margin: 0 0.4em 0.5em 0.4em;box-sizing: border-box;padding-bottom: 0.4em;background-color: white;}#sk-container-id-7 div.sk-label label {font-family: monospace;font-weight: bold;display: inline-block;line-height: 1.2em;}#sk-container-id-7 div.sk-label-container {text-align: center;}#sk-container-id-7 div.sk-container {/* jupyter's `normalize.less` sets `[hidden] { display: none; }` but bootstrap.min.css set `[hidden] { display: none !important; }` so we also need the `!important` here to be able to override the default hidden behavior on the sphinx rendered scikit-learn.org. See: https://github.com/scikit-learn/scikit-learn/issues/21755 */display: inline-block !important;position: relative;}#sk-container-id-7 div.sk-text-repr-fallback {display: none;}</style><div id=\"sk-container-id-7\" class=\"sk-top-container\"><div class=\"sk-text-repr-fallback\"><pre>RandomForestClassifier(criterion=&#x27;entropy&#x27;, max_depth=10, n_estimators=500)</pre><b>In a Jupyter environment, please rerun this cell to show the HTML representation or trust the notebook. <br />On GitHub, the HTML representation is unable to render, please try loading this page with nbviewer.org.</b></div><div class=\"sk-container\" hidden><div class=\"sk-item\"><div class=\"sk-estimator sk-toggleable\"><input class=\"sk-toggleable__control sk-hidden--visually\" id=\"sk-estimator-id-7\" type=\"checkbox\" checked><label for=\"sk-estimator-id-7\" class=\"sk-toggleable__label sk-toggleable__label-arrow\">RandomForestClassifier</label><div class=\"sk-toggleable__content\"><pre>RandomForestClassifier(criterion=&#x27;entropy&#x27;, max_depth=10, n_estimators=500)</pre></div></div></div></div></div>"
            ]
          },
          "metadata": {},
          "execution_count": 122
        }
      ],
      "source": [
        "simple_grid_search(X_train, y_train, X_test, y_test, features)\n"
      ],
      "id": "552daf9e-0bd7-4ce7-aa5c-0e7ced4ce294"
    },
    {
      "cell_type": "code",
      "execution_count": null,
      "metadata": {
        "id": "8e478d72-7c82-4003-8bf7-7d69866f91d6"
      },
      "outputs": [],
      "source": [],
      "id": "8e478d72-7c82-4003-8bf7-7d69866f91d6"
    },
    {
      "cell_type": "code",
      "execution_count": null,
      "metadata": {
        "id": "911679ac-fd4d-47c8-b456-5db639c9cfb9"
      },
      "outputs": [],
      "source": [],
      "id": "911679ac-fd4d-47c8-b456-5db639c9cfb9"
    },
    {
      "cell_type": "code",
      "execution_count": null,
      "metadata": {
        "id": "1f17b1df-bd85-4a0d-814d-3ce78496a1b2"
      },
      "outputs": [],
      "source": [],
      "id": "1f17b1df-bd85-4a0d-814d-3ce78496a1b2"
    }
  ],
  "metadata": {
    "colab": {
      "provenance": [],
      "include_colab_link": true
    },
    "kernelspec": {
      "display_name": "data_science",
      "language": "python",
      "name": "data_science"
    },
    "language_info": {
      "codemirror_mode": {
        "name": "ipython",
        "version": 3
      },
      "file_extension": ".py",
      "mimetype": "text/x-python",
      "name": "python",
      "nbconvert_exporter": "python",
      "pygments_lexer": "ipython3",
      "version": "3.11.3"
    }
  },
  "nbformat": 4,
  "nbformat_minor": 5
}